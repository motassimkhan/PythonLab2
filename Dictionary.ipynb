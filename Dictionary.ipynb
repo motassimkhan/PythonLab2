{
  "nbformat": 4,
  "nbformat_minor": 0,
  "metadata": {
    "colab": {
      "provenance": []
    },
    "kernelspec": {
      "name": "python3",
      "display_name": "Python 3"
    },
    "language_info": {
      "name": "python"
    }
  },
  "cells": [
    {
      "cell_type": "code",
      "execution_count": 1,
      "metadata": {
        "colab": {
          "base_uri": "https://localhost:8080/"
        },
        "id": "Wx0wjqWDWbQ2",
        "outputId": "b8d15baf-3f4a-459a-ae90-e33dc01aac4b"
      },
      "outputs": [
        {
          "output_type": "stream",
          "name": "stdout",
          "text": [
            "name : khan\n",
            "rollno : 98\n",
            "class : cseb\n"
          ]
        }
      ],
      "source": [
        "student = {\n",
        "    \"name\":\"khan\",\n",
        "    'rollno':98,\n",
        "    'class':'cseb'\n",
        "}\n",
        "for i,j in student.items():\n",
        "  print(i,':',j)"
      ]
    },
    {
      "cell_type": "code",
      "source": [
        "print(student.keys(),student.values())"
      ],
      "metadata": {
        "colab": {
          "base_uri": "https://localhost:8080/"
        },
        "id": "zFfTY2D8XC1U",
        "outputId": "1c539bfd-54c8-4214-9f33-fa0ee7ef4036"
      },
      "execution_count": 5,
      "outputs": [
        {
          "output_type": "stream",
          "name": "stdout",
          "text": [
            "dict_keys(['name', 'rollno', 'class']) dict_values(['khan', 98, 'cseb'])\n"
          ]
        }
      ]
    },
    {
      "cell_type": "code",
      "source": [
        "stud = {\n",
        "    0:'hi',\n",
        "    1:'hello',\n",
        "    2:'bye'\n",
        "}\n",
        "for i in range(len(stud)):\n",
        "  print(i,':',stud[i])"
      ],
      "metadata": {
        "colab": {
          "base_uri": "https://localhost:8080/"
        },
        "id": "_Y1JZUukXLgb",
        "outputId": "fe19c8f1-a8b1-4cc0-dd81-046ccec0f254"
      },
      "execution_count": 6,
      "outputs": [
        {
          "output_type": "stream",
          "name": "stdout",
          "text": [
            "0 : hi\n",
            "1 : hello\n",
            "2 : bye\n"
          ]
        }
      ]
    },
    {
      "cell_type": "code",
      "source": [
        "print(student['name'])"
      ],
      "metadata": {
        "colab": {
          "base_uri": "https://localhost:8080/"
        },
        "id": "wGMNh1DkXym7",
        "outputId": "7ec02dab-c4f0-4564-a1e8-1ed64366e5ef"
      },
      "execution_count": 8,
      "outputs": [
        {
          "output_type": "stream",
          "name": "stdout",
          "text": [
            "khan\n"
          ]
        }
      ]
    },
    {
      "cell_type": "code",
      "source": [
        "student1 = {\n",
        "    'name':'motassim',\n",
        "    'rollno':98,\n",
        "    'year':'second',\n",
        "    'year':2023\n",
        "}\n",
        "for i in student1.items():\n",
        "  print(i[0],':',i[1])"
      ],
      "metadata": {
        "colab": {
          "base_uri": "https://localhost:8080/"
        },
        "id": "M2gXoB5rYfG8",
        "outputId": "b58c0665-2090-4600-c717-f3b43ad174bd"
      },
      "execution_count": 14,
      "outputs": [
        {
          "output_type": "stream",
          "name": "stdout",
          "text": [
            "name : motassim\n",
            "rollno : 98\n",
            "year : 2023\n"
          ]
        }
      ]
    },
    {
      "cell_type": "code",
      "source": [
        "print(len(student1))"
      ],
      "metadata": {
        "colab": {
          "base_uri": "https://localhost:8080/"
        },
        "id": "8FgCzU81YzCs",
        "outputId": "1097772e-5c72-48f8-cc39-f4f188d18b7f"
      },
      "execution_count": 15,
      "outputs": [
        {
          "output_type": "stream",
          "name": "stdout",
          "text": [
            "3\n"
          ]
        }
      ]
    },
    {
      "cell_type": "code",
      "source": [
        "for i in range(len(student1)):\n",
        "  print(student1[i])"
      ],
      "metadata": {
        "colab": {
          "base_uri": "https://localhost:8080/",
          "height": 193
        },
        "id": "_n8Hufe4ZIU0",
        "outputId": "551bc449-acc1-4321-9179-9ab4971b2852"
      },
      "execution_count": 18,
      "outputs": [
        {
          "output_type": "error",
          "ename": "KeyError",
          "evalue": "ignored",
          "traceback": [
            "\u001b[0;31m---------------------------------------------------------------------------\u001b[0m",
            "\u001b[0;31mKeyError\u001b[0m                                  Traceback (most recent call last)",
            "\u001b[0;32m<ipython-input-18-72e7d203670f>\u001b[0m in \u001b[0;36m<cell line: 1>\u001b[0;34m()\u001b[0m\n\u001b[1;32m      1\u001b[0m \u001b[0;32mfor\u001b[0m \u001b[0mi\u001b[0m \u001b[0;32min\u001b[0m \u001b[0mrange\u001b[0m\u001b[0;34m(\u001b[0m\u001b[0mlen\u001b[0m\u001b[0;34m(\u001b[0m\u001b[0mstudent1\u001b[0m\u001b[0;34m)\u001b[0m\u001b[0;34m)\u001b[0m\u001b[0;34m:\u001b[0m\u001b[0;34m\u001b[0m\u001b[0;34m\u001b[0m\u001b[0m\n\u001b[0;32m----> 2\u001b[0;31m   \u001b[0mprint\u001b[0m\u001b[0;34m(\u001b[0m\u001b[0mstudent1\u001b[0m\u001b[0;34m[\u001b[0m\u001b[0mi\u001b[0m\u001b[0;34m]\u001b[0m\u001b[0;34m)\u001b[0m\u001b[0;34m\u001b[0m\u001b[0;34m\u001b[0m\u001b[0m\n\u001b[0m",
            "\u001b[0;31mKeyError\u001b[0m: 0"
          ]
        }
      ]
    },
    {
      "cell_type": "code",
      "source": [
        "student1['interests'] = ['karate','mma']\n",
        "student1"
      ],
      "metadata": {
        "colab": {
          "base_uri": "https://localhost:8080/"
        },
        "id": "mIpBRqv_ZZvs",
        "outputId": "f25c51e8-44f4-4949-9bb9-d3f441d79526"
      },
      "execution_count": 20,
      "outputs": [
        {
          "output_type": "execute_result",
          "data": {
            "text/plain": [
              "{'name': 'motassim',\n",
              " 'rollno': 98,\n",
              " 'year': 2023,\n",
              " 'interests': ['karate', 'mma']}"
            ]
          },
          "metadata": {},
          "execution_count": 20
        }
      ]
    },
    {
      "cell_type": "code",
      "source": [],
      "metadata": {
        "id": "aaC2RCZMZzBU"
      },
      "execution_count": null,
      "outputs": []
    }
  ]
}