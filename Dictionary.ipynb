{
  "nbformat": 4,
  "nbformat_minor": 0,
  "metadata": {
    "colab": {
      "provenance": []
    },
    "kernelspec": {
      "name": "python3",
      "display_name": "Python 3"
    },
    "language_info": {
      "name": "python"
    }
  },
  "cells": [
    {
      "cell_type": "code",
      "execution_count": 1,
      "metadata": {
        "colab": {
          "base_uri": "https://localhost:8080/"
        },
        "id": "Wx0wjqWDWbQ2",
        "outputId": "b8d15baf-3f4a-459a-ae90-e33dc01aac4b"
      },
      "outputs": [
        {
          "output_type": "stream",
          "name": "stdout",
          "text": [
            "name : khan\n",
            "rollno : 98\n",
            "class : cseb\n"
          ]
        }
      ],
      "source": [
        "student = {\n",
        "    \"name\":\"khan\",\n",
        "    'rollno':98,\n",
        "    'class':'cseb'\n",
        "}\n",
        "for i,j in student.items():\n",
        "  print(i,':',j)"
      ]
    },
    {
      "cell_type": "code",
      "source": [
        "print(student.keys(),student.values())"
      ],
      "metadata": {
        "colab": {
          "base_uri": "https://localhost:8080/"
        },
        "id": "zFfTY2D8XC1U",
        "outputId": "1c539bfd-54c8-4214-9f33-fa0ee7ef4036"
      },
      "execution_count": 5,
      "outputs": [
        {
          "output_type": "stream",
          "name": "stdout",
          "text": [
            "dict_keys(['name', 'rollno', 'class']) dict_values(['khan', 98, 'cseb'])\n"
          ]
        }
      ]
    },
    {
      "cell_type": "code",
      "source": [
        "stud = {\n",
        "    0:'hi',\n",
        "    1:'hello',\n",
        "    2:'bye'\n",
        "}\n",
        "for i in range(len(stud)):\n",
        "  print(i,':',stud[i])"
      ],
      "metadata": {
        "colab": {
          "base_uri": "https://localhost:8080/"
        },
        "id": "_Y1JZUukXLgb",
        "outputId": "fe19c8f1-a8b1-4cc0-dd81-046ccec0f254"
      },
      "execution_count": 6,
      "outputs": [
        {
          "output_type": "stream",
          "name": "stdout",
          "text": [
            "0 : hi\n",
            "1 : hello\n",
            "2 : bye\n"
          ]
        }
      ]
    },
    {
      "cell_type": "code",
      "source": [
        "print(student['name'])"
      ],
      "metadata": {
        "colab": {
          "base_uri": "https://localhost:8080/"
        },
        "id": "wGMNh1DkXym7",
        "outputId": "7ec02dab-c4f0-4564-a1e8-1ed64366e5ef"
      },
      "execution_count": 8,
      "outputs": [
        {
          "output_type": "stream",
          "name": "stdout",
          "text": [
            "khan\n"
          ]
        }
      ]
    },
    {
      "cell_type": "code",
      "source": [
        "student1 = {\n",
        "    'name':'motassim',\n",
        "    'rollno':98,\n",
        "    'year':'second',\n",
        "    'year':2023\n",
        "}\n",
        "for i in student1.items():\n",
        "  print(i[0],':',i[1])"
      ],
      "metadata": {
        "colab": {
          "base_uri": "https://localhost:8080/"
        },
        "id": "M2gXoB5rYfG8",
        "outputId": "b58c0665-2090-4600-c717-f3b43ad174bd"
      },
      "execution_count": 14,
      "outputs": [
        {
          "output_type": "stream",
          "name": "stdout",
          "text": [
            "name : motassim\n",
            "rollno : 98\n",
            "year : 2023\n"
          ]
        }
      ]
    },
    {
      "cell_type": "code",
      "source": [
        "print(len(student1))"
      ],
      "metadata": {
        "colab": {
          "base_uri": "https://localhost:8080/"
        },
        "id": "8FgCzU81YzCs",
        "outputId": "1097772e-5c72-48f8-cc39-f4f188d18b7f"
      },
      "execution_count": 15,
      "outputs": [
        {
          "output_type": "stream",
          "name": "stdout",
          "text": [
            "3\n"
          ]
        }
      ]
    },
    {
      "cell_type": "code",
      "source": [
        "student1['interests'] = ['karate','mma']\n",
        "student1"
      ],
      "metadata": {
        "colab": {
          "base_uri": "https://localhost:8080/"
        },
        "id": "mIpBRqv_ZZvs",
        "outputId": "f25c51e8-44f4-4949-9bb9-d3f441d79526"
      },
      "execution_count": 20,
      "outputs": [
        {
          "output_type": "execute_result",
          "data": {
            "text/plain": [
              "{'name': 'motassim',\n",
              " 'rollno': 98,\n",
              " 'year': 2023,\n",
              " 'interests': ['karate', 'mma']}"
            ]
          },
          "metadata": {},
          "execution_count": 20
        }
      ]
    },
    {
      "cell_type": "code",
      "source": [
        "student2=dict(name='ayan',rollno = 83, year='second')\n",
        "student2"
      ],
      "metadata": {
        "colab": {
          "base_uri": "https://localhost:8080/"
        },
        "id": "aaC2RCZMZzBU",
        "outputId": "d07ad230-e475-4f7a-e423-5ccb5d19462e"
      },
      "execution_count": 24,
      "outputs": [
        {
          "output_type": "execute_result",
          "data": {
            "text/plain": [
              "{'name': 'ayan', 'rollno': 83, 'year': 'second'}"
            ]
          },
          "metadata": {},
          "execution_count": 24
        }
      ]
    },
    {
      "cell_type": "code",
      "source": [
        "year_of_study = student2.get('year')\n",
        "year_of_study"
      ],
      "metadata": {
        "colab": {
          "base_uri": "https://localhost:8080/",
          "height": 35
        },
        "id": "ISca2bm8ar9M",
        "outputId": "6f4c0ebe-e52f-4c16-8c66-9470f5b46c94"
      },
      "execution_count": 25,
      "outputs": [
        {
          "output_type": "execute_result",
          "data": {
            "text/plain": [
              "'second'"
            ],
            "application/vnd.google.colaboratory.intrinsic+json": {
              "type": "string"
            }
          },
          "metadata": {},
          "execution_count": 25
        }
      ]
    },
    {
      "cell_type": "code",
      "source": [
        "cse2b = {\n",
        "    \"names\":'cse2b',\n",
        "    \"strength\":69,\n",
        "    \"subjects\":[\"stld\",\"ppl\",'p&s',\"dbms\"]\n",
        "}\n",
        "details=cse2b.keys()\n",
        "details\n",
        "#del cse2b['subjects']\n",
        "cse2b"
      ],
      "metadata": {
        "colab": {
          "base_uri": "https://localhost:8080/"
        },
        "id": "__F8a0aua3Wc",
        "outputId": "ef2a9033-cbac-46ee-c50c-dc72651bfc0a"
      },
      "execution_count": 35,
      "outputs": [
        {
          "output_type": "execute_result",
          "data": {
            "text/plain": [
              "{'names': 'cse2b', 'strength': 69, 'subjects': ['stld', 'ppl', 'p&s', 'dbms']}"
            ]
          },
          "metadata": {},
          "execution_count": 35
        }
      ]
    },
    {
      "cell_type": "code",
      "source": [
        "cse2b.pop('names')\n",
        "cse2b"
      ],
      "metadata": {
        "colab": {
          "base_uri": "https://localhost:8080/",
          "height": 193
        },
        "id": "NwzVBCG1byZ9",
        "outputId": "16ba5ae8-5e4f-4556-8a3a-569ca9e5c5ef"
      },
      "execution_count": 37,
      "outputs": [
        {
          "output_type": "error",
          "ename": "KeyError",
          "evalue": "ignored",
          "traceback": [
            "\u001b[0;31m---------------------------------------------------------------------------\u001b[0m",
            "\u001b[0;31mKeyError\u001b[0m                                  Traceback (most recent call last)",
            "\u001b[0;32m<ipython-input-37-360b00214ff5>\u001b[0m in \u001b[0;36m<cell line: 1>\u001b[0;34m()\u001b[0m\n\u001b[0;32m----> 1\u001b[0;31m \u001b[0mcse2b\u001b[0m\u001b[0;34m.\u001b[0m\u001b[0mpop\u001b[0m\u001b[0;34m(\u001b[0m\u001b[0;34m'names'\u001b[0m\u001b[0;34m)\u001b[0m\u001b[0;34m\u001b[0m\u001b[0;34m\u001b[0m\u001b[0m\n\u001b[0m\u001b[1;32m      2\u001b[0m \u001b[0mcse2b\u001b[0m\u001b[0;34m\u001b[0m\u001b[0;34m\u001b[0m\u001b[0m\n",
            "\u001b[0;31mKeyError\u001b[0m: 'names'"
          ]
        }
      ]
    },
    {
      "cell_type": "code",
      "source": [
        "cse2b[\"CR\"]=98\n",
        "cse2b"
      ],
      "metadata": {
        "colab": {
          "base_uri": "https://localhost:8080/"
        },
        "id": "lLt5b6Q8ckct",
        "outputId": "e0d93901-72cd-4798-e144-7b32e5c4ac5b"
      },
      "execution_count": 38,
      "outputs": [
        {
          "output_type": "execute_result",
          "data": {
            "text/plain": [
              "{'strength': 69, 'subjects': ['stld', 'ppl', 'p&s', 'dbms'], 'CR': 98}"
            ]
          },
          "metadata": {},
          "execution_count": 38
        }
      ]
    },
    {
      "cell_type": "code",
      "source": [
        "for i in cse2b.keys():\n",
        "  print(cse2b[i])\n",
        "del cse2b['subjects']"
      ],
      "metadata": {
        "colab": {
          "base_uri": "https://localhost:8080/"
        },
        "id": "16GrZXtIcnCc",
        "outputId": "135f267a-e6ff-46d3-c1d9-05e1bcf11b0e"
      },
      "execution_count": 49,
      "outputs": [
        {
          "output_type": "stream",
          "name": "stdout",
          "text": [
            "69\n",
            "['stld', 'ppl', 'p&s', 'dbms']\n",
            "98\n"
          ]
        }
      ]
    },
    {
      "cell_type": "code",
      "source": [
        "sub =['stld', 'ppl', 'p&s', 'dbms']\n",
        "cse2b['subjects']=sub\n",
        "for i in cse2b.items():\n",
        "  print(i[0],':',i[1])"
      ],
      "metadata": {
        "colab": {
          "base_uri": "https://localhost:8080/"
        },
        "id": "1EoILKp9c23N",
        "outputId": "4fff4bb5-8be0-4528-9854-caa3bfd3f2d6"
      },
      "execution_count": 55,
      "outputs": [
        {
          "output_type": "stream",
          "name": "stdout",
          "text": [
            "strength : 69\n",
            "subjects : ['stld', 'ppl', 'p&s', 'dbms']\n",
            "CR : 98\n"
          ]
        }
      ]
    },
    {
      "cell_type": "code",
      "source": [],
      "metadata": {
        "id": "8yYFGzKqe899"
      },
      "execution_count": null,
      "outputs": []
    }
  ]
}